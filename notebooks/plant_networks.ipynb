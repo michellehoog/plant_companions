{
 "cells": [
  {
   "cell_type": "code",
   "execution_count": null,
   "metadata": {},
   "outputs": [],
   "source": [
    "import networkx as nx\n",
    "import pandas as pd\n",
    "import json\n",
    "from typing import DefaultDict\n",
    "import matplotlib.pyplot as plt\n",
    "from pyvis.network import Network\n",
    "import numpy as np\n",
    "from sklearn.metrics.pairwise import cosine_similarity, linear_kernel"
   ]
  },
  {
   "cell_type": "markdown",
   "metadata": {},
   "source": [
    "# Companion Planting\n",
    "\n",
    "## Objective\n",
    "Create and visualize a network of companion plants to make planting recommendations. "
   ]
  },
  {
   "cell_type": "code",
   "execution_count": null,
   "metadata": {},
   "outputs": [],
   "source": [
    "path = '../data/gardenplanner.json'\n",
    "        \n",
    "def get_plants(path):\n",
    "    english_data =  DefaultDict(dict)\n",
    "    with open(path) as json_file:\n",
    "        data = json.load(json_file)\n",
    "        for plant in data['plants']:\n",
    "            if plant['countryCode'] == 'gb':\n",
    "                english_data[plant['plantCode']] = plant\n",
    "                     \n",
    "        return english_data\n",
    "    \n",
    "def get_relationships(data, edibles_only = False):\n",
    "    code_dict = {}\n",
    "    relationship_dict = DefaultDict(set)\n",
    "        \n",
    "    edibles = ['fruit', 'herb', 'vegetable']\n",
    "\n",
    "    for plant in data:\n",
    "        code_dict[plant] = data[plant]['plantName']\n",
    "\n",
    "        if edibles_only:\n",
    "            if any(item in data[plant]['tags'] for item in edibles):\n",
    "                relationship_dict[plant] = set(data[plant]['companionPlantCodes'])\n",
    "        else:\n",
    "            relationship_dict[plant] = set(data[plant]['companionPlantCodes'])\n",
    "                    \n",
    "    return code_dict, relationship_dict\n",
    "\n",
    "def print_plant_list(relationship_dict, code_dict):\n",
    "    for plant in sorted(relationship_dict, key=lambda k: len(relationship_dict[k]), reverse=True):\n",
    "        print(f'plant: {code_dict[plant]} ({plant}), num_of_companions: {len(relationship_dict[plant])}')\n",
    "        \n",
    "data = get_plants(path)\n",
    "code_dict, relationship_dict = get_relationships(data)\n",
    "print_plant_list(relationship_dict, code_dict)"
   ]
  },
  {
   "cell_type": "markdown",
   "metadata": {},
   "source": [
    "Garlic, carrots, nasturtiums, lettuce (loose leaf and headed), tomatoes and kale seem to be the most 'sociable' plants in the database. There are several plants, like ginger, walnuts, persimmon and lemon grass with no companions or only one companion. \n",
    "\n",
    "In the future, we can try to get data from other sources, because some of these plants do have known companions. For example, a quick search shows that cherry, pawpaw, persimmon, plum, and quince will grow under walnuts.\n",
    "\n",
    "The full database also contains flowers, so a quick way to narrow down the data to edibles is to only look at fruits, vegetables and herbs (though this may miss some useful, edible plants like nasturtiums)."
   ]
  },
  {
   "cell_type": "code",
   "execution_count": null,
   "metadata": {},
   "outputs": [],
   "source": [
    "g_all = nx.MultiGraph(relationship_dict)\n",
    "net = Network(notebook = True, width = 1000)\n",
    "net.from_nx(g_all)\n",
    "net.show_buttons()\n",
    "net.show(\"companion.html\")"
   ]
  },
  {
   "cell_type": "code",
   "execution_count": null,
   "metadata": {},
   "outputs": [],
   "source": [
    "# show all plant connections\n",
    "def create_pyvis_network(graph, show_buttons = True):\n",
    "    net = Network(notebook = True, width = 1000)\n",
    "    net.from_nx(graph)\n",
    "    if show_buttons:\n",
    "        net.show_buttons()\n",
    "    return net\n",
    "    \n",
    "n = create_pyvis_network(g_all, \"all_plant_connections.html\")\n",
    "n.show(\"../output/all_plant_connections.html\")"
   ]
  },
  {
   "cell_type": "code",
   "execution_count": null,
   "metadata": {},
   "outputs": [],
   "source": [
    "#graph of only veggies, fruits and herbs\n",
    "code_dict_edibles, relationship_dict_edibles = get_relationships(data, edibles_only=True)\n",
    "g_edible = nx.MultiGraph(relationship_dict_edibles)\n",
    "n = create_pyvis_network(g_edible)\n",
    "n.show(\"../output/edible_plant_connections.html\")"
   ]
  },
  {
   "cell_type": "code",
   "execution_count": null,
   "metadata": {},
   "outputs": [],
   "source": [
    "#calculate cosine similarity\n",
    "companion_matrix = nx.to_numpy_matrix(g_all)\n",
    "sim_matrix = cosine_similarity(companion_matrix, companion_matrix)\n",
    "sim_df = pd.DataFrame(sim_matrix, columns = g_all.nodes, index = g_all.nodes)\n",
    "\n",
    "most_similar_ix = cosine_similarity(companion_matrix[i:i+1], companion_matrix).flatten().argsort()"
   ]
  },
  {
   "cell_type": "code",
   "execution_count": null,
   "metadata": {},
   "outputs": [],
   "source": [
    "# df = pd.DataFrame(columns=[\"original df col\", \"most similar doc\", \"similarity%\"])\n",
    "# for i in range(len(g_all.nodes)):\n",
    "#     cosine_similarities = cosine_similarity(companion_matrix[i:i+1], companion_matrix).flatten()\n",
    "#     # make pairs of (index, similarity)\n",
    "#     cosine_similarities = list(enumerate(cosine_similarities))\n",
    "#     # delete the cosine similarity with itself\n",
    "#     cosine_similarities.pop(i)\n",
    "#     # get the tuple with max similarity\n",
    "#     most_similar, similarity = max(cosine_similarities, key=lambda t:t[1])\n",
    "#     df.loc[len(df)] = [g_all.nodes[i], g_all.nodes[most_similar], similarity]"
   ]
  },
  {
   "cell_type": "code",
   "execution_count": null,
   "metadata": {},
   "outputs": [],
   "source": [
    "#TODO: give 3 degrees of connections\n",
    "#TODO: Add nigrogen needs/production and insectary plant info\n",
    "#TODO: get/clean sun, soil, water needs"
   ]
  }
 ],
 "metadata": {
  "kernelspec": {
   "display_name": "Python 3",
   "language": "python",
   "name": "python3"
  },
  "language_info": {
   "codemirror_mode": {
    "name": "ipython",
    "version": 3
   },
   "file_extension": ".py",
   "mimetype": "text/x-python",
   "name": "python",
   "nbconvert_exporter": "python",
   "pygments_lexer": "ipython3",
   "version": "3.9.5"
  }
 },
 "nbformat": 4,
 "nbformat_minor": 2
}
